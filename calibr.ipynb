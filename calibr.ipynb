{
  "nbformat": 4,
  "nbformat_minor": 0,
  "metadata": {
    "colab": {
      "name": "calibr.ipynb",
      "provenance": []
    },
    "kernelspec": {
      "name": "python3",
      "display_name": "Python 3"
    }
  },
  "cells": [
    {
      "cell_type": "code",
      "metadata": {
        "id": "DJRZP5IlR_IF",
        "colab_type": "code",
        "colab": {}
      },
      "source": [
        "def get_dist(point1, point2):\n",
        "  x1, y1 = point1\n",
        "  x2, y2 = point2\n",
        "  r = ((x2-x1)**2+(y2-y1)**2)**0.5\n",
        "  return round(r)"
      ],
      "execution_count": 0,
      "outputs": []
    },
    {
      "cell_type": "code",
      "metadata": {
        "id": "dnoRQLf9TIio",
        "colab_type": "code",
        "colab": {
          "base_uri": "https://localhost:8080/",
          "height": 52
        },
        "outputId": "dfa6fc64-80a0-4953-f477-427f878c7f1a"
      },
      "source": [
        "# Ракурс 8\n",
        "A = [(0, 206), (0, 342), (0, 497), (52, 699), (244, 699), (433, 699), (697, 699), \n",
        "     (867, 699), (1039, 699), (1199, 653), (1199, 455), (1199, 310)]\n",
        "B = [(121, 91), (181, 140), (222, 170), (315, 204), (406, 211), (511, 216), \n",
        "     (653, 216), (766, 216), (853, 211), (942, 204), (951, 182), (1051, 93)]\n",
        "C = [(218, 3), (296, 0), (351, 0), (420, 0), (478, 0), (544, 0), (633, 0), \n",
        "     (691, 0), (751, 0), (813, 0), (866, 0), (919, 0)]\n",
        "\n",
        "L = [70, 80, 98, 114, 114, 114, 114, 114, 114, 104, 98, 76]\n",
        "\n",
        "M = []\n",
        "for i in range(len(A)):\n",
        "  M.append(get_dist(A[i], B[i]))\n",
        "\n",
        "W = []\n",
        "for i in range(len(A)):\n",
        "  W.append(get_dist(A[i], C[i]))\n",
        "\n",
        "print(M)\n",
        "print(W)"
      ],
      "execution_count": 7,
      "outputs": [
        {
          "output_type": "stream",
          "text": [
            "[167, 271, 395, 561, 514, 489, 485, 493, 522, 517, 369, 263]\n",
            "[298, 452, 608, 790, 737, 708, 702, 721, 756, 759, 564, 418]\n"
          ],
          "name": "stdout"
        }
      ]
    },
    {
      "cell_type": "code",
      "metadata": {
        "id": "4FtmRdMcZBhm",
        "colab_type": "code",
        "colab": {}
      },
      "source": [
        "# N - номер пути\n",
        "def D(x, N, M=M, L=L, W=W):\n",
        "  assert len(L) == len(W) == len(M)\n",
        "  K = (W[N] - M[N]) / M[N]\n",
        "  D = 78 + L[N] * K / ((W[N] / x) - 1 + K)\n",
        "  return round(D)"
      ],
      "execution_count": 0,
      "outputs": []
    },
    {
      "cell_type": "code",
      "metadata": {
        "id": "nsGqzknodwM2",
        "colab_type": "code",
        "colab": {
          "base_uri": "https://localhost:8080/",
          "height": 34
        },
        "outputId": "14ba8f9d-285c-48ff-eed7-68f7ccda0a53"
      },
      "source": [
        "D(600, 5)"
      ],
      "execution_count": 16,
      "outputs": [
        {
          "output_type": "execute_result",
          "data": {
            "text/plain": [
              "159"
            ]
          },
          "metadata": {
            "tags": []
          },
          "execution_count": 16
        }
      ]
    },
    {
      "cell_type": "code",
      "metadata": {
        "id": "eYWnvSMUejVY",
        "colab_type": "code",
        "colab": {}
      },
      "source": [
        ""
      ],
      "execution_count": 0,
      "outputs": []
    }
  ]
}